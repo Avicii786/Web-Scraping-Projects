{
 "cells": [
  {
   "cell_type": "code",
   "execution_count": 1,
   "metadata": {},
   "outputs": [],
   "source": [
    "\n",
    "from bs4 import BeautifulSoup\n",
    "from selenium import webdriver\n",
    "from selenium.webdriver.common.by import By\n",
    "from selenium.webdriver.chrome.service import Service\n",
    "from selenium.webdriver.common.keys import Keys\n",
    "from selenium.webdriver.support.wait import WebDriverWait\n",
    "from selenium.webdriver.support import expected_conditions as EC\n",
    "import pandas as pd\n",
    "import time\n",
    "import os\n",
    "\n",
    "\n",
    "# drivers path\n",
    "driver_path = os.getcwd() + '/chromedriver.exe'\n",
    "\n",
    "\n",
    "# target website url and excel file name\n",
    "target_url = \"https://www.amazon.co.uk/\"\n",
    "input_excel_file = \"input_data.xlsx\""
   ]
  },
  {
   "cell_type": "code",
   "execution_count": 2,
   "metadata": {},
   "outputs": [],
   "source": [
    "# read asin from excel file\n",
    "df = pd.read_excel(input_excel_file, header=None)\n",
    "asin_list = df[0]\n",
    "# asin_list"
   ]
  },
  {
   "cell_type": "code",
   "execution_count": 4,
   "metadata": {},
   "outputs": [
    {
     "data": {
      "text/plain": [
       "str"
      ]
     },
     "execution_count": 4,
     "metadata": {},
     "output_type": "execute_result"
    }
   ],
   "source": [
    "type(asin_list[0])"
   ]
  },
  {
   "cell_type": "code",
   "execution_count": 5,
   "metadata": {},
   "outputs": [],
   "source": [
    "\n",
    "\n",
    "ser_object = Service(driver_path)\n",
    "driver = webdriver.Chrome(service=ser_object)\n",
    "driver.get(target_url)\n",
    "ex_wait = WebDriverWait(driver, 15)\n"
   ]
  },
  {
   "cell_type": "code",
   "execution_count": 6,
   "metadata": {},
   "outputs": [],
   "source": [
    "asin_dict = dict()\n",
    "product_title_dict = dict()\n",
    "product_price_dict = dict()\n",
    "ratings_dict = dict()\n",
    "other_sellers_data = dict()"
   ]
  },
  {
   "cell_type": "code",
   "execution_count": 7,
   "metadata": {},
   "outputs": [],
   "source": [
    "try:\n",
    "    cookies_btn = ex_wait.until(EC.element_to_be_clickable((By.XPATH, '//*[@id=\"sp-cc-accept\"]')))\n",
    "    cookies_btn.click()\n",
    "except Exception:\n",
    "    None"
   ]
  },
  {
   "cell_type": "code",
   "execution_count": 8,
   "metadata": {},
   "outputs": [],
   "source": [
    "# change address\n",
    "address_box = ex_wait.until(EC.element_to_be_clickable((By.XPATH, '//*[@id=\"nav-global-location-popover-link\"]')))\n",
    "address_box.click()\n",
    "time.sleep(1)\n",
    "address_input = ex_wait.until(EC.element_to_be_clickable((By.XPATH, '//*[@id=\"GLUXZipUpdateInput\"]')))\n",
    "address_input.clear()\n",
    "address_input.send_keys(\"BD5 8DT\")\n",
    "address_input.send_keys(Keys.RETURN)\n",
    "\n",
    "try:\n",
    "    continue_btn = WebDriverWait(driver, 5).until(EC.element_to_be_clickable((By.XPATH, '//*[@id=\"a-popover-1\"]/div/div[2]/span/span')))\n",
    "    continue_btn.click()\n",
    "except Exception:\n",
    "    None"
   ]
  },
  {
   "cell_type": "code",
   "execution_count": null,
   "metadata": {},
   "outputs": [],
   "source": []
  },
  {
   "cell_type": "code",
   "execution_count": 9,
   "metadata": {},
   "outputs": [],
   "source": [
    "search_box = ex_wait.until(EC.element_to_be_clickable(\n",
    "    (By.XPATH, \"//input[@id='twotabsearchtextbox']\")))\n",
    "search_box.click()\n",
    "search_box.clear()\n",
    "search_box.send_keys(\"B0015SB98S\")\n",
    "\n",
    "# step 2 : click Enter to search\n",
    "search_box.send_keys(Keys.RETURN)"
   ]
  },
  {
   "cell_type": "code",
   "execution_count": 30,
   "metadata": {},
   "outputs": [],
   "source": [
    "# //*[@id=\"search\"]/div[1]/div[1]/div/span[3]/div[2]\n",
    "\n",
    "main_slot_div = ex_wait.until(EC.presence_of_element_located((By.XPATH, '//*[@id=\"search\"]/div[1]/div[1]/div/span[3]/div[2]')))\n",
    "html = main_slot_div.get_attribute('innerHTML')\n",
    "soup = BeautifulSoup(html, 'html.parser')"
   ]
  },
  {
   "cell_type": "code",
   "execution_count": 10,
   "metadata": {},
   "outputs": [
    {
     "data": {
      "text/plain": [
       "13"
      ]
     },
     "execution_count": 10,
     "metadata": {},
     "output_type": "execute_result"
    }
   ],
   "source": [
    "all_divs = ex_wait.until(EC.presence_of_all_elements_located((By.XPATH, '//div[@data-component-type=\"s-search-result\"]')))\n",
    "len(all_divs)"
   ]
  },
  {
   "cell_type": "code",
   "execution_count": 19,
   "metadata": {},
   "outputs": [
    {
     "ename": "AttributeError",
     "evalue": "'list' object has no attribute 'find_element'",
     "output_type": "error",
     "traceback": [
      "\u001b[1;31m---------------------------------------------------------------------------\u001b[0m",
      "\u001b[1;31mAttributeError\u001b[0m                            Traceback (most recent call last)",
      "\u001b[1;32m~\\AppData\\Local\\Temp/ipykernel_11576/3986681997.py\u001b[0m in \u001b[0;36m<module>\u001b[1;34m\u001b[0m\n\u001b[1;32m----> 1\u001b[1;33m \u001b[0mall_divs\u001b[0m\u001b[1;33m.\u001b[0m\u001b[0mfind_element\u001b[0m\u001b[1;33m(\u001b[0m\u001b[0mBy\u001b[0m\u001b[1;33m.\u001b[0m\u001b[0mXPATH\u001b[0m\u001b[1;33m,\u001b[0m \u001b[1;34m'//*[@id=\"search\"]/div[1]/div[1]/div/span[3]/div[2]/div[5]'\u001b[0m\u001b[1;33m)\u001b[0m\u001b[1;33m.\u001b[0m\u001b[0mget_attribute\u001b[0m\u001b[1;33m(\u001b[0m\u001b[1;34m'data-asin'\u001b[0m\u001b[1;33m)\u001b[0m\u001b[1;33m\u001b[0m\u001b[1;33m\u001b[0m\u001b[0m\n\u001b[0m",
      "\u001b[1;31mAttributeError\u001b[0m: 'list' object has no attribute 'find_element'"
     ]
    }
   ],
   "source": [
    "# div[data-asin='B0015SB98S']"
   ]
  },
  {
   "cell_type": "code",
   "execution_count": 23,
   "metadata": {},
   "outputs": [
    {
     "data": {
      "text/plain": [
       "\"div[data-asin='B00FJ5Q1UY']\""
      ]
     },
     "execution_count": 23,
     "metadata": {},
     "output_type": "execute_result"
    }
   ],
   "source": [
    "val = f\"div[data-asin='{asin_list[0]}']\"\n",
    "val"
   ]
  },
  {
   "cell_type": "code",
   "execution_count": 25,
   "metadata": {},
   "outputs": [],
   "source": [
    "driver.find_element(By.CSS_SELECTOR, val).click()"
   ]
  },
  {
   "cell_type": "code",
   "execution_count": 24,
   "metadata": {},
   "outputs": [
    {
     "ename": "StaleElementReferenceException",
     "evalue": "Message: stale element reference: element is not attached to the page document\n  (Session info: chrome=101.0.4951.54)\nStacktrace:\nBacktrace:\n\tOrdinal0 [0x007BB8F3+2406643]\n\tOrdinal0 [0x0074AF31+1945393]\n\tOrdinal0 [0x0063C748+837448]\n\tOrdinal0 [0x0063F154+848212]\n\tOrdinal0 [0x0063F012+847890]\n\tOrdinal0 [0x0063F2A0+848544]\n\tOrdinal0 [0x00668FF5+1019893]\n\tOrdinal0 [0x0066957B+1021307]\n\tOrdinal0 [0x0065FAE1+981729]\n\tOrdinal0 [0x006842C4+1131204]\n\tOrdinal0 [0x0065FA64+981604]\n\tOrdinal0 [0x00684494+1131668]\n\tOrdinal0 [0x00694682+1197698]\n\tOrdinal0 [0x00684096+1130646]\n\tOrdinal0 [0x0065E636+976438]\n\tOrdinal0 [0x0065F546+980294]\n\tGetHandleVerifier [0x00A29612+2498066]\n\tGetHandleVerifier [0x00A1C920+2445600]\n\tGetHandleVerifier [0x00854F2A+579370]\n\tGetHandleVerifier [0x00853D36+574774]\n\tOrdinal0 [0x00751C0B+1973259]\n\tOrdinal0 [0x00756688+1992328]\n\tOrdinal0 [0x00756775+1992565]\n\tOrdinal0 [0x0075F8D1+2029777]\n\tBaseThreadInitThunk [0x75B26739+25]\n\tRtlGetFullPathName_UEx [0x77C88E7F+1215]\n\tRtlGetFullPathName_UEx [0x77C88E4D+1165]\n",
     "output_type": "error",
     "traceback": [
      "\u001b[1;31m---------------------------------------------------------------------------\u001b[0m",
      "\u001b[1;31mStaleElementReferenceException\u001b[0m            Traceback (most recent call last)",
      "\u001b[1;32m~\\AppData\\Local\\Temp/ipykernel_11576/2033368129.py\u001b[0m in \u001b[0;36m<module>\u001b[1;34m\u001b[0m\n\u001b[0;32m      1\u001b[0m \u001b[1;32mfor\u001b[0m \u001b[0mdiv\u001b[0m \u001b[1;32min\u001b[0m \u001b[0mall_divs\u001b[0m\u001b[1;33m:\u001b[0m\u001b[1;33m\u001b[0m\u001b[1;33m\u001b[0m\u001b[0m\n\u001b[1;32m----> 2\u001b[1;33m     \u001b[0mt\u001b[0m \u001b[1;33m=\u001b[0m \u001b[0mdiv\u001b[0m\u001b[1;33m.\u001b[0m\u001b[0mfind_element\u001b[0m\u001b[1;33m(\u001b[0m\u001b[0mBy\u001b[0m\u001b[1;33m.\u001b[0m\u001b[0mCSS_SELECTOR\u001b[0m\u001b[1;33m,\u001b[0m \u001b[0mval\u001b[0m\u001b[1;33m)\u001b[0m\u001b[1;33m\u001b[0m\u001b[1;33m\u001b[0m\u001b[0m\n\u001b[0m\u001b[0;32m      3\u001b[0m     \u001b[1;32mif\u001b[0m \u001b[0mt\u001b[0m\u001b[1;33m.\u001b[0m\u001b[0mget_attribute\u001b[0m\u001b[1;33m(\u001b[0m\u001b[1;34m'data-asin'\u001b[0m\u001b[1;33m)\u001b[0m \u001b[1;33m==\u001b[0m \u001b[1;34m\"B0015SB98S\"\u001b[0m\u001b[1;33m:\u001b[0m\u001b[1;33m\u001b[0m\u001b[1;33m\u001b[0m\u001b[0m\n\u001b[0;32m      4\u001b[0m         \u001b[0mtarget\u001b[0m \u001b[1;33m=\u001b[0m \u001b[0mt\u001b[0m\u001b[1;33m.\u001b[0m\u001b[0mfind_element\u001b[0m\u001b[1;33m(\u001b[0m\u001b[0mBy\u001b[0m\u001b[1;33m.\u001b[0m\u001b[0mXPATH\u001b[0m\u001b[1;33m,\u001b[0m \u001b[1;34m'//img[@class=\"s-image\"]'\u001b[0m\u001b[1;33m)\u001b[0m\u001b[1;33m\u001b[0m\u001b[1;33m\u001b[0m\u001b[0m\n\u001b[0;32m      5\u001b[0m         \u001b[0mprint\u001b[0m\u001b[1;33m(\u001b[0m\u001b[1;34m\"found\"\u001b[0m\u001b[1;33m)\u001b[0m\u001b[1;33m\u001b[0m\u001b[1;33m\u001b[0m\u001b[0m\n",
      "\u001b[1;32mc:\\Anaconda\\lib\\site-packages\\selenium\\webdriver\\remote\\webelement.py\u001b[0m in \u001b[0;36mfind_element\u001b[1;34m(self, by, value)\u001b[0m\n\u001b[0;32m    733\u001b[0m             \u001b[0mvalue\u001b[0m \u001b[1;33m=\u001b[0m \u001b[1;34m'[name=\"%s\"]'\u001b[0m \u001b[1;33m%\u001b[0m \u001b[0mvalue\u001b[0m\u001b[1;33m\u001b[0m\u001b[1;33m\u001b[0m\u001b[0m\n\u001b[0;32m    734\u001b[0m \u001b[1;33m\u001b[0m\u001b[0m\n\u001b[1;32m--> 735\u001b[1;33m         return self._execute(Command.FIND_CHILD_ELEMENT,\n\u001b[0m\u001b[0;32m    736\u001b[0m                              {\"using\": by, \"value\": value})['value']\n\u001b[0;32m    737\u001b[0m \u001b[1;33m\u001b[0m\u001b[0m\n",
      "\u001b[1;32mc:\\Anaconda\\lib\\site-packages\\selenium\\webdriver\\remote\\webelement.py\u001b[0m in \u001b[0;36m_execute\u001b[1;34m(self, command, params)\u001b[0m\n\u001b[0;32m    708\u001b[0m             \u001b[0mparams\u001b[0m \u001b[1;33m=\u001b[0m \u001b[1;33m{\u001b[0m\u001b[1;33m}\u001b[0m\u001b[1;33m\u001b[0m\u001b[1;33m\u001b[0m\u001b[0m\n\u001b[0;32m    709\u001b[0m         \u001b[0mparams\u001b[0m\u001b[1;33m[\u001b[0m\u001b[1;34m'id'\u001b[0m\u001b[1;33m]\u001b[0m \u001b[1;33m=\u001b[0m \u001b[0mself\u001b[0m\u001b[1;33m.\u001b[0m\u001b[0m_id\u001b[0m\u001b[1;33m\u001b[0m\u001b[1;33m\u001b[0m\u001b[0m\n\u001b[1;32m--> 710\u001b[1;33m         \u001b[1;32mreturn\u001b[0m \u001b[0mself\u001b[0m\u001b[1;33m.\u001b[0m\u001b[0m_parent\u001b[0m\u001b[1;33m.\u001b[0m\u001b[0mexecute\u001b[0m\u001b[1;33m(\u001b[0m\u001b[0mcommand\u001b[0m\u001b[1;33m,\u001b[0m \u001b[0mparams\u001b[0m\u001b[1;33m)\u001b[0m\u001b[1;33m\u001b[0m\u001b[1;33m\u001b[0m\u001b[0m\n\u001b[0m\u001b[0;32m    711\u001b[0m \u001b[1;33m\u001b[0m\u001b[0m\n\u001b[0;32m    712\u001b[0m     \u001b[1;32mdef\u001b[0m \u001b[0mfind_element\u001b[0m\u001b[1;33m(\u001b[0m\u001b[0mself\u001b[0m\u001b[1;33m,\u001b[0m \u001b[0mby\u001b[0m\u001b[1;33m=\u001b[0m\u001b[0mBy\u001b[0m\u001b[1;33m.\u001b[0m\u001b[0mID\u001b[0m\u001b[1;33m,\u001b[0m \u001b[0mvalue\u001b[0m\u001b[1;33m=\u001b[0m\u001b[1;32mNone\u001b[0m\u001b[1;33m)\u001b[0m\u001b[1;33m:\u001b[0m\u001b[1;33m\u001b[0m\u001b[1;33m\u001b[0m\u001b[0m\n",
      "\u001b[1;32mc:\\Anaconda\\lib\\site-packages\\selenium\\webdriver\\remote\\webdriver.py\u001b[0m in \u001b[0;36mexecute\u001b[1;34m(self, driver_command, params)\u001b[0m\n\u001b[0;32m    422\u001b[0m         \u001b[0mresponse\u001b[0m \u001b[1;33m=\u001b[0m \u001b[0mself\u001b[0m\u001b[1;33m.\u001b[0m\u001b[0mcommand_executor\u001b[0m\u001b[1;33m.\u001b[0m\u001b[0mexecute\u001b[0m\u001b[1;33m(\u001b[0m\u001b[0mdriver_command\u001b[0m\u001b[1;33m,\u001b[0m \u001b[0mparams\u001b[0m\u001b[1;33m)\u001b[0m\u001b[1;33m\u001b[0m\u001b[1;33m\u001b[0m\u001b[0m\n\u001b[0;32m    423\u001b[0m         \u001b[1;32mif\u001b[0m \u001b[0mresponse\u001b[0m\u001b[1;33m:\u001b[0m\u001b[1;33m\u001b[0m\u001b[1;33m\u001b[0m\u001b[0m\n\u001b[1;32m--> 424\u001b[1;33m             \u001b[0mself\u001b[0m\u001b[1;33m.\u001b[0m\u001b[0merror_handler\u001b[0m\u001b[1;33m.\u001b[0m\u001b[0mcheck_response\u001b[0m\u001b[1;33m(\u001b[0m\u001b[0mresponse\u001b[0m\u001b[1;33m)\u001b[0m\u001b[1;33m\u001b[0m\u001b[1;33m\u001b[0m\u001b[0m\n\u001b[0m\u001b[0;32m    425\u001b[0m             response['value'] = self._unwrap_value(\n\u001b[0;32m    426\u001b[0m                 response.get('value', None))\n",
      "\u001b[1;32mc:\\Anaconda\\lib\\site-packages\\selenium\\webdriver\\remote\\errorhandler.py\u001b[0m in \u001b[0;36mcheck_response\u001b[1;34m(self, response)\u001b[0m\n\u001b[0;32m    245\u001b[0m                 \u001b[0malert_text\u001b[0m \u001b[1;33m=\u001b[0m \u001b[0mvalue\u001b[0m\u001b[1;33m[\u001b[0m\u001b[1;34m'alert'\u001b[0m\u001b[1;33m]\u001b[0m\u001b[1;33m.\u001b[0m\u001b[0mget\u001b[0m\u001b[1;33m(\u001b[0m\u001b[1;34m'text'\u001b[0m\u001b[1;33m)\u001b[0m\u001b[1;33m\u001b[0m\u001b[1;33m\u001b[0m\u001b[0m\n\u001b[0;32m    246\u001b[0m             \u001b[1;32mraise\u001b[0m \u001b[0mexception_class\u001b[0m\u001b[1;33m(\u001b[0m\u001b[0mmessage\u001b[0m\u001b[1;33m,\u001b[0m \u001b[0mscreen\u001b[0m\u001b[1;33m,\u001b[0m \u001b[0mstacktrace\u001b[0m\u001b[1;33m,\u001b[0m \u001b[0malert_text\u001b[0m\u001b[1;33m)\u001b[0m  \u001b[1;31m# type: ignore[call-arg]  # mypy is not smart enough here\u001b[0m\u001b[1;33m\u001b[0m\u001b[1;33m\u001b[0m\u001b[0m\n\u001b[1;32m--> 247\u001b[1;33m         \u001b[1;32mraise\u001b[0m \u001b[0mexception_class\u001b[0m\u001b[1;33m(\u001b[0m\u001b[0mmessage\u001b[0m\u001b[1;33m,\u001b[0m \u001b[0mscreen\u001b[0m\u001b[1;33m,\u001b[0m \u001b[0mstacktrace\u001b[0m\u001b[1;33m)\u001b[0m\u001b[1;33m\u001b[0m\u001b[1;33m\u001b[0m\u001b[0m\n\u001b[0m\u001b[0;32m    248\u001b[0m \u001b[1;33m\u001b[0m\u001b[0m\n\u001b[0;32m    249\u001b[0m     \u001b[1;32mdef\u001b[0m \u001b[0m_value_or_default\u001b[0m\u001b[1;33m(\u001b[0m\u001b[0mself\u001b[0m\u001b[1;33m,\u001b[0m \u001b[0mobj\u001b[0m\u001b[1;33m:\u001b[0m \u001b[0mMapping\u001b[0m\u001b[1;33m[\u001b[0m\u001b[0m_KT\u001b[0m\u001b[1;33m,\u001b[0m \u001b[0m_VT\u001b[0m\u001b[1;33m]\u001b[0m\u001b[1;33m,\u001b[0m \u001b[0mkey\u001b[0m\u001b[1;33m:\u001b[0m \u001b[0m_KT\u001b[0m\u001b[1;33m,\u001b[0m \u001b[0mdefault\u001b[0m\u001b[1;33m:\u001b[0m \u001b[0m_VT\u001b[0m\u001b[1;33m)\u001b[0m \u001b[1;33m->\u001b[0m \u001b[0m_VT\u001b[0m\u001b[1;33m:\u001b[0m\u001b[1;33m\u001b[0m\u001b[1;33m\u001b[0m\u001b[0m\n",
      "\u001b[1;31mStaleElementReferenceException\u001b[0m: Message: stale element reference: element is not attached to the page document\n  (Session info: chrome=101.0.4951.54)\nStacktrace:\nBacktrace:\n\tOrdinal0 [0x007BB8F3+2406643]\n\tOrdinal0 [0x0074AF31+1945393]\n\tOrdinal0 [0x0063C748+837448]\n\tOrdinal0 [0x0063F154+848212]\n\tOrdinal0 [0x0063F012+847890]\n\tOrdinal0 [0x0063F2A0+848544]\n\tOrdinal0 [0x00668FF5+1019893]\n\tOrdinal0 [0x0066957B+1021307]\n\tOrdinal0 [0x0065FAE1+981729]\n\tOrdinal0 [0x006842C4+1131204]\n\tOrdinal0 [0x0065FA64+981604]\n\tOrdinal0 [0x00684494+1131668]\n\tOrdinal0 [0x00694682+1197698]\n\tOrdinal0 [0x00684096+1130646]\n\tOrdinal0 [0x0065E636+976438]\n\tOrdinal0 [0x0065F546+980294]\n\tGetHandleVerifier [0x00A29612+2498066]\n\tGetHandleVerifier [0x00A1C920+2445600]\n\tGetHandleVerifier [0x00854F2A+579370]\n\tGetHandleVerifier [0x00853D36+574774]\n\tOrdinal0 [0x00751C0B+1973259]\n\tOrdinal0 [0x00756688+1992328]\n\tOrdinal0 [0x00756775+1992565]\n\tOrdinal0 [0x0075F8D1+2029777]\n\tBaseThreadInitThunk [0x75B26739+25]\n\tRtlGetFullPathName_UEx [0x77C88E7F+1215]\n\tRtlGetFullPathName_UEx [0x77C88E4D+1165]\n"
     ]
    }
   ],
   "source": [
    "# for div in all_divs:\n",
    "#     t = div.find_element(By.CSS_SELECTOR, val)\n",
    "#     if t.get_attribute('data-asin') == \"B0015SB98S\":\n",
    "#         target = t.find_element(By.XPATH, '//img[@class=\"s-image\"]')\n",
    "#         print(\"found\")\n",
    "#     else:\n",
    "#         print(\"not found\")\n",
    "#     # print(type(div))"
   ]
  },
  {
   "cell_type": "code",
   "execution_count": 14,
   "metadata": {},
   "outputs": [
    {
     "ename": "StaleElementReferenceException",
     "evalue": "Message: stale element reference: element is not attached to the page document\n  (Session info: chrome=101.0.4951.54)\nStacktrace:\nBacktrace:\n\tOrdinal0 [0x007BB8F3+2406643]\n\tOrdinal0 [0x0074AF31+1945393]\n\tOrdinal0 [0x0063C748+837448]\n\tOrdinal0 [0x0063F154+848212]\n\tOrdinal0 [0x0063F012+847890]\n\tOrdinal0 [0x0063F98A+850314]\n\tOrdinal0 [0x006950C9+1200329]\n\tOrdinal0 [0x0068427C+1131132]\n\tOrdinal0 [0x00694682+1197698]\n\tOrdinal0 [0x00684096+1130646]\n\tOrdinal0 [0x0065E636+976438]\n\tOrdinal0 [0x0065F546+980294]\n\tGetHandleVerifier [0x00A29612+2498066]\n\tGetHandleVerifier [0x00A1C920+2445600]\n\tGetHandleVerifier [0x00854F2A+579370]\n\tGetHandleVerifier [0x00853D36+574774]\n\tOrdinal0 [0x00751C0B+1973259]\n\tOrdinal0 [0x00756688+1992328]\n\tOrdinal0 [0x00756775+1992565]\n\tOrdinal0 [0x0075F8D1+2029777]\n\tBaseThreadInitThunk [0x75B26739+25]\n\tRtlGetFullPathName_UEx [0x77C88E7F+1215]\n\tRtlGetFullPathName_UEx [0x77C88E4D+1165]\n",
     "output_type": "error",
     "traceback": [
      "\u001b[1;31m---------------------------------------------------------------------------\u001b[0m",
      "\u001b[1;31mStaleElementReferenceException\u001b[0m            Traceback (most recent call last)",
      "\u001b[1;32m~\\AppData\\Local\\Temp/ipykernel_11576/3532887150.py\u001b[0m in \u001b[0;36m<module>\u001b[1;34m\u001b[0m\n\u001b[0;32m      1\u001b[0m \u001b[1;32mfor\u001b[0m \u001b[0mdiv\u001b[0m \u001b[1;32min\u001b[0m \u001b[0mall_divs\u001b[0m\u001b[1;33m:\u001b[0m\u001b[1;33m\u001b[0m\u001b[1;33m\u001b[0m\u001b[0m\n\u001b[1;32m----> 2\u001b[1;33m     \u001b[1;32mif\u001b[0m \u001b[0mdiv\u001b[0m\u001b[1;33m.\u001b[0m\u001b[0mget_attribute\u001b[0m\u001b[1;33m(\u001b[0m\u001b[1;34m'data-asin'\u001b[0m\u001b[1;33m)\u001b[0m \u001b[1;33m==\u001b[0m \u001b[1;34m\"B0015SB98S\"\u001b[0m\u001b[1;33m:\u001b[0m\u001b[1;33m\u001b[0m\u001b[1;33m\u001b[0m\u001b[0m\n\u001b[0m\u001b[0;32m      3\u001b[0m         \u001b[0mtarget\u001b[0m \u001b[1;33m=\u001b[0m \u001b[0mdiv\u001b[0m\u001b[1;33m.\u001b[0m\u001b[0mfind_element\u001b[0m\u001b[1;33m(\u001b[0m\u001b[0mBy\u001b[0m\u001b[1;33m.\u001b[0m\u001b[0mXPATH\u001b[0m\u001b[1;33m,\u001b[0m \u001b[1;34m'//img[@class=\"s-image\"]'\u001b[0m\u001b[1;33m)\u001b[0m\u001b[1;33m\u001b[0m\u001b[1;33m\u001b[0m\u001b[0m\n\u001b[0;32m      4\u001b[0m     \u001b[1;32melse\u001b[0m\u001b[1;33m:\u001b[0m\u001b[1;33m\u001b[0m\u001b[1;33m\u001b[0m\u001b[0m\n\u001b[0;32m      5\u001b[0m         \u001b[0mprint\u001b[0m\u001b[1;33m(\u001b[0m\u001b[1;34m\"not found\"\u001b[0m\u001b[1;33m)\u001b[0m\u001b[1;33m\u001b[0m\u001b[1;33m\u001b[0m\u001b[0m\n",
      "\u001b[1;32mc:\\Anaconda\\lib\\site-packages\\selenium\\webdriver\\remote\\webelement.py\u001b[0m in \u001b[0;36mget_attribute\u001b[1;34m(self, name)\u001b[0m\n\u001b[0;32m    153\u001b[0m         \"\"\"\n\u001b[0;32m    154\u001b[0m \u001b[1;33m\u001b[0m\u001b[0m\n\u001b[1;32m--> 155\u001b[1;33m         attribute_value = self.parent.execute_script(\n\u001b[0m\u001b[0;32m    156\u001b[0m             \u001b[1;34m\"return (%s).apply(null, arguments);\"\u001b[0m \u001b[1;33m%\u001b[0m \u001b[0mgetAttribute_js\u001b[0m\u001b[1;33m,\u001b[0m\u001b[1;33m\u001b[0m\u001b[1;33m\u001b[0m\u001b[0m\n\u001b[0;32m    157\u001b[0m             self, name)\n",
      "\u001b[1;32mc:\\Anaconda\\lib\\site-packages\\selenium\\webdriver\\remote\\webdriver.py\u001b[0m in \u001b[0;36mexecute_script\u001b[1;34m(self, script, *args)\u001b[0m\n\u001b[0;32m    876\u001b[0m         \u001b[0mcommand\u001b[0m \u001b[1;33m=\u001b[0m \u001b[0mCommand\u001b[0m\u001b[1;33m.\u001b[0m\u001b[0mW3C_EXECUTE_SCRIPT\u001b[0m\u001b[1;33m\u001b[0m\u001b[1;33m\u001b[0m\u001b[0m\n\u001b[0;32m    877\u001b[0m \u001b[1;33m\u001b[0m\u001b[0m\n\u001b[1;32m--> 878\u001b[1;33m         return self.execute(command, {\n\u001b[0m\u001b[0;32m    879\u001b[0m             \u001b[1;34m'script'\u001b[0m\u001b[1;33m:\u001b[0m \u001b[0mscript\u001b[0m\u001b[1;33m,\u001b[0m\u001b[1;33m\u001b[0m\u001b[1;33m\u001b[0m\u001b[0m\n\u001b[0;32m    880\u001b[0m             'args': converted_args})['value']\n",
      "\u001b[1;32mc:\\Anaconda\\lib\\site-packages\\selenium\\webdriver\\remote\\webdriver.py\u001b[0m in \u001b[0;36mexecute\u001b[1;34m(self, driver_command, params)\u001b[0m\n\u001b[0;32m    422\u001b[0m         \u001b[0mresponse\u001b[0m \u001b[1;33m=\u001b[0m \u001b[0mself\u001b[0m\u001b[1;33m.\u001b[0m\u001b[0mcommand_executor\u001b[0m\u001b[1;33m.\u001b[0m\u001b[0mexecute\u001b[0m\u001b[1;33m(\u001b[0m\u001b[0mdriver_command\u001b[0m\u001b[1;33m,\u001b[0m \u001b[0mparams\u001b[0m\u001b[1;33m)\u001b[0m\u001b[1;33m\u001b[0m\u001b[1;33m\u001b[0m\u001b[0m\n\u001b[0;32m    423\u001b[0m         \u001b[1;32mif\u001b[0m \u001b[0mresponse\u001b[0m\u001b[1;33m:\u001b[0m\u001b[1;33m\u001b[0m\u001b[1;33m\u001b[0m\u001b[0m\n\u001b[1;32m--> 424\u001b[1;33m             \u001b[0mself\u001b[0m\u001b[1;33m.\u001b[0m\u001b[0merror_handler\u001b[0m\u001b[1;33m.\u001b[0m\u001b[0mcheck_response\u001b[0m\u001b[1;33m(\u001b[0m\u001b[0mresponse\u001b[0m\u001b[1;33m)\u001b[0m\u001b[1;33m\u001b[0m\u001b[1;33m\u001b[0m\u001b[0m\n\u001b[0m\u001b[0;32m    425\u001b[0m             response['value'] = self._unwrap_value(\n\u001b[0;32m    426\u001b[0m                 response.get('value', None))\n",
      "\u001b[1;32mc:\\Anaconda\\lib\\site-packages\\selenium\\webdriver\\remote\\errorhandler.py\u001b[0m in \u001b[0;36mcheck_response\u001b[1;34m(self, response)\u001b[0m\n\u001b[0;32m    245\u001b[0m                 \u001b[0malert_text\u001b[0m \u001b[1;33m=\u001b[0m \u001b[0mvalue\u001b[0m\u001b[1;33m[\u001b[0m\u001b[1;34m'alert'\u001b[0m\u001b[1;33m]\u001b[0m\u001b[1;33m.\u001b[0m\u001b[0mget\u001b[0m\u001b[1;33m(\u001b[0m\u001b[1;34m'text'\u001b[0m\u001b[1;33m)\u001b[0m\u001b[1;33m\u001b[0m\u001b[1;33m\u001b[0m\u001b[0m\n\u001b[0;32m    246\u001b[0m             \u001b[1;32mraise\u001b[0m \u001b[0mexception_class\u001b[0m\u001b[1;33m(\u001b[0m\u001b[0mmessage\u001b[0m\u001b[1;33m,\u001b[0m \u001b[0mscreen\u001b[0m\u001b[1;33m,\u001b[0m \u001b[0mstacktrace\u001b[0m\u001b[1;33m,\u001b[0m \u001b[0malert_text\u001b[0m\u001b[1;33m)\u001b[0m  \u001b[1;31m# type: ignore[call-arg]  # mypy is not smart enough here\u001b[0m\u001b[1;33m\u001b[0m\u001b[1;33m\u001b[0m\u001b[0m\n\u001b[1;32m--> 247\u001b[1;33m         \u001b[1;32mraise\u001b[0m \u001b[0mexception_class\u001b[0m\u001b[1;33m(\u001b[0m\u001b[0mmessage\u001b[0m\u001b[1;33m,\u001b[0m \u001b[0mscreen\u001b[0m\u001b[1;33m,\u001b[0m \u001b[0mstacktrace\u001b[0m\u001b[1;33m)\u001b[0m\u001b[1;33m\u001b[0m\u001b[1;33m\u001b[0m\u001b[0m\n\u001b[0m\u001b[0;32m    248\u001b[0m \u001b[1;33m\u001b[0m\u001b[0m\n\u001b[0;32m    249\u001b[0m     \u001b[1;32mdef\u001b[0m \u001b[0m_value_or_default\u001b[0m\u001b[1;33m(\u001b[0m\u001b[0mself\u001b[0m\u001b[1;33m,\u001b[0m \u001b[0mobj\u001b[0m\u001b[1;33m:\u001b[0m \u001b[0mMapping\u001b[0m\u001b[1;33m[\u001b[0m\u001b[0m_KT\u001b[0m\u001b[1;33m,\u001b[0m \u001b[0m_VT\u001b[0m\u001b[1;33m]\u001b[0m\u001b[1;33m,\u001b[0m \u001b[0mkey\u001b[0m\u001b[1;33m:\u001b[0m \u001b[0m_KT\u001b[0m\u001b[1;33m,\u001b[0m \u001b[0mdefault\u001b[0m\u001b[1;33m:\u001b[0m \u001b[0m_VT\u001b[0m\u001b[1;33m)\u001b[0m \u001b[1;33m->\u001b[0m \u001b[0m_VT\u001b[0m\u001b[1;33m:\u001b[0m\u001b[1;33m\u001b[0m\u001b[1;33m\u001b[0m\u001b[0m\n",
      "\u001b[1;31mStaleElementReferenceException\u001b[0m: Message: stale element reference: element is not attached to the page document\n  (Session info: chrome=101.0.4951.54)\nStacktrace:\nBacktrace:\n\tOrdinal0 [0x007BB8F3+2406643]\n\tOrdinal0 [0x0074AF31+1945393]\n\tOrdinal0 [0x0063C748+837448]\n\tOrdinal0 [0x0063F154+848212]\n\tOrdinal0 [0x0063F012+847890]\n\tOrdinal0 [0x0063F98A+850314]\n\tOrdinal0 [0x006950C9+1200329]\n\tOrdinal0 [0x0068427C+1131132]\n\tOrdinal0 [0x00694682+1197698]\n\tOrdinal0 [0x00684096+1130646]\n\tOrdinal0 [0x0065E636+976438]\n\tOrdinal0 [0x0065F546+980294]\n\tGetHandleVerifier [0x00A29612+2498066]\n\tGetHandleVerifier [0x00A1C920+2445600]\n\tGetHandleVerifier [0x00854F2A+579370]\n\tGetHandleVerifier [0x00853D36+574774]\n\tOrdinal0 [0x00751C0B+1973259]\n\tOrdinal0 [0x00756688+1992328]\n\tOrdinal0 [0x00756775+1992565]\n\tOrdinal0 [0x0075F8D1+2029777]\n\tBaseThreadInitThunk [0x75B26739+25]\n\tRtlGetFullPathName_UEx [0x77C88E7F+1215]\n\tRtlGetFullPathName_UEx [0x77C88E4D+1165]\n"
     ]
    }
   ],
   "source": [
    "for div in all_divs:\n",
    "    t = div.find_element(By.XPATH, '//*[@id=\"search\"]/div[1]/div[1]/div/span[3]/div[2]/div[5]').get_attribute('data-asin')\n",
    "    if div.get_attribute('data-asin') == \"B0015SB98S\":\n",
    "        target = div.find_element(By.XPATH, '//img[@class=\"s-image\"]')\n",
    "    else:\n",
    "        print(\"not found\")"
   ]
  },
  {
   "cell_type": "code",
   "execution_count": 13,
   "metadata": {},
   "outputs": [],
   "source": [
    "target.click()"
   ]
  },
  {
   "cell_type": "code",
   "execution_count": 14,
   "metadata": {},
   "outputs": [],
   "source": [
    "main_div = ex_wait.until(EC.presence_of_element_located((By.XPATH, '//*[@id=\"dp\"]')))\n",
    "html = main_div.get_attribute('innerHTML')\n",
    "soup = BeautifulSoup(html, 'html.parser')"
   ]
  },
  {
   "cell_type": "code",
   "execution_count": 17,
   "metadata": {},
   "outputs": [
    {
     "data": {
      "text/plain": [
       "'Bourjois Volume Glamour Volumizing Mascara 6 Noir Ebene, 12ml'"
      ]
     },
     "execution_count": 17,
     "metadata": {},
     "output_type": "execute_result"
    }
   ],
   "source": [
    "# title\n",
    "product_title = soup.find('span', {'id': 'productTitle'}).text.strip()\n",
    "product_title"
   ]
  },
  {
   "cell_type": "code",
   "execution_count": 19,
   "metadata": {},
   "outputs": [
    {
     "data": {
      "text/plain": [
       "'2,638 ratings'"
      ]
     },
     "execution_count": 19,
     "metadata": {},
     "output_type": "execute_result"
    }
   ],
   "source": [
    "# prodcut ratings\n",
    "product_rating =  soup.find('span', {'id': 'acrCustomerReviewText'}).text.strip()\n",
    "product_rating"
   ]
  },
  {
   "cell_type": "code",
   "execution_count": 22,
   "metadata": {},
   "outputs": [
    {
     "data": {
      "text/plain": [
       "'£4.05'"
      ]
     },
     "execution_count": 22,
     "metadata": {},
     "output_type": "execute_result"
    }
   ],
   "source": [
    "# product price\n",
    "product_price = soup.find('span', {'class': 'a-offscreen'}).text.strip()\n",
    "product_price"
   ]
  },
  {
   "cell_type": "code",
   "execution_count": 23,
   "metadata": {},
   "outputs": [],
   "source": [
    "try:\n",
    "    other_sellers_menu = WebDriverWait(driver, 15).until(EC.element_to_be_clickable(\n",
    "        (By.XPATH, '//*[@id=\"olpLinkWidget_feature_div\"]/div[2]/span/a/div')))\n",
    "    other_sellers_menu.click()\n",
    "# 7 : Except look for the single product details if it is shippe by amazon\n",
    "except Exception:\n",
    "    time.sleep(1)\n",
    "    check_list = []\n",
    "\n",
    "    # get the main div\n",
    "    tabular_buy_box = ex_wait.until(EC.presence_of_element_located(\n",
    "        (By.XPATH, '//*[@id=\"tabular_feature_div\"]')))\n",
    "    html1 = tabular_buy_box.get_attribute('innerHTML')\n",
    "    soup1 = BeautifulSoup(html1, 'html.parser')\n",
    "\n",
    "    # extract data using bs4\n",
    "    sh_from = soup1.find_all(\n",
    "        'span', class_={'a-size-small a-color-tertiary'})[0].text.strip()\n",
    "    so_by = soup1.find_all(\n",
    "        'span', class_={'a-size-small a-color-tertiary'})[1].text.strip()\n",
    "    main_div = soup1.find_all(\n",
    "        'div', class_={'tabular-buybox-text a-spacing-none'})\n",
    "    sh_company = main_div[0].text.replace(\"\\n\", \"\").strip()\n",
    "    so_company = main_div[1].text.replace(\"\\n\", \"\").strip()\n",
    "\n",
    "    # if loops to check if the data is present or not\n",
    "    if \"amazon\" in sh_company.lower() or \"amazon.ae\" in sh_company.lower() or \"amazon.com\" in sh_company.lower() or \"amazon uk\" in sh_company.lower() or \"amazon\" in so_company.lower() or \"amazon.ae\" in so_company.lower() or \"amazon.com\" in so_company.lower() or \"amazon uk\" in so_company.lower():\n",
    "        temp_a = f\"{sh_from} {sh_company}\"\n",
    "        temp_e_ele_s = f\"{so_by} {so_company}\"\n",
    "        check_list.append([temp_a, temp_e_ele_s])\n",
    "        # other_sellers_data[i] = check_list\n",
    "        print(check_list)\n",
    "        # print(f\"{i} Successfully process : {asin_list[i]}\")\n",
    "    else:\n",
    "        other_sellers_data[i] = \"\"\n",
    "        # print(f\"{i} Successfully process : {asin_list[i]}\")\n",
    "        print(\"No amazon seller found\")\n"
   ]
  },
  {
   "cell_type": "code",
   "execution_count": 26,
   "metadata": {},
   "outputs": [
    {
     "name": "stdout",
     "output_type": "stream",
     "text": [
      "Dispatches from Amazon Sold by RYBRM TRADING LTD\n"
     ]
    }
   ],
   "source": [
    "seemore_btn = ex_wait.until(EC.element_to_be_clickable(\n",
    "            (By.XPATH, \"//a[@id='aod-pinned-offer-show-more-link']\")))\n",
    "seemore_btn.click()\n",
    "time.sleep(1)\n",
    "# Step 9 check buy box prodcut delivery option\n",
    "buy_box_check = ex_wait.until(EC.presence_of_element_located(\n",
    "    (By.XPATH, \"//div[@id='aod-pinned-offer-additional-content']//div[@id='aod-offer-shipsFrom']//div[@class='a-fixed-left-grid-inner']\")))\n",
    "# buy_box_check.text\n",
    "temp_list = []\n",
    "\n",
    "\n",
    "\n",
    "\n",
    "\n",
    "\n",
    "try:\n",
    "    temp_ele = ex_wait.until(EC.presence_of_element_located(\n",
    "        (By.XPATH, '//*[@id=\"aod-pinned-offer-additional-content\"]/div[1]')))\n",
    "    html2 = temp_ele.get_attribute('innerHTML')\n",
    "    soup2 = BeautifulSoup(html2, 'html.parser')\n",
    "    shipBy2 = soup2.find_all(\n",
    "        'span', class_={'a-size-small a-color-tertiary'})[0].text.strip()\n",
    "    soldBy2 = soup2.find_all(\n",
    "        'span', class_={'a-size-small a-color-tertiary'})[1].text.strip()\n",
    "    shipBy_company2 = soup2.find(\n",
    "        'span', class_={'a-size-small a-color-base'}).text.strip()\n",
    "    test = soup2.find('a', class_={\"a-size-small a-link-normal\"})\n",
    "    if test is None:\n",
    "        soldBy_company2 = soup2.find(\n",
    "            'span', class_={'a-size-small a-color-base'}).text.strip()\n",
    "    else:\n",
    "        soldBy_company2 = test.get_text().strip()\n",
    "\n",
    "    if \"amazon.ae\" in shipBy_company2.lower() or \"amazon.com\" in shipBy_company2.lower() or \"amazon uk\" in shipBy_company2.lower() or \"amazon\" in shipBy_company2.lower() or \"amazon.ae\" in soldBy_company2.lower() or \"amazon.com\" in soldBy_company2.lower() or \"amazon uk\" in soldBy_company2.lower() or \"amazon\" in soldBy_company2.lower():\n",
    "        lista = f\"{shipBy2} {shipBy_company2}\"\n",
    "        listb = f\"{soldBy2} {soldBy_company2}\"\n",
    "        temp_list.append([lista, listb])\n",
    "        print(lista, listb)\n",
    "except Exception:\n",
    "    print(\"No amazon seller found in buy box\")\n",
    "    None"
   ]
  },
  {
   "cell_type": "code",
   "execution_count": 32,
   "metadata": {},
   "outputs": [],
   "source": [
    "# driver.execute_script(\"window.scrollTo(0,document.body.scrollHeight)\")\n",
    "driver.find_element(By.XPATH, '//*[@id=\"a-autoid-2-offer-1\"]/span/input').send_keys(Keys.END)\n"
   ]
  },
  {
   "cell_type": "code",
   "execution_count": 33,
   "metadata": {},
   "outputs": [
    {
     "name": "stdout",
     "output_type": "stream",
     "text": [
      "Dispatches from Amazon Sold by Jaks Beauty Parlour\n",
      "Dispatches from Amazon Sold by ShopForMakeup\n",
      "Dispatches from Amazon Sold by BonChoixUK\n",
      "Dispatches from Amazon Sold by Bella's Hair and Beauty\n",
      "Dispatches from Amazon Sold by SavEasy Ltd. (easy way to save money)\n",
      "Dispatches from Amazon Sold by Mr Cosmetics\n"
     ]
    }
   ],
   "source": [
    "# step 10 : extract those products details which is fullfilled by amazon.ae\n",
    "# step 10 Mini step : Select the main div of other sellers\n",
    "other_sellers = ex_wait.until(EC.presence_of_all_elements_located(\n",
    "    (By.XPATH, \"//body/div[@id='all-offers-display']/span[@class='a-declarative']/span[@class='a-declarative']/span[@class='aod-div-for-focus']/div[@id='all-offers-display-scroller']/div[@id='aod-container']/div[@id='aod-offer-list']/div\")))\n",
    "# look for amazon shipped or sell products\n",
    "for j in other_sellers:\n",
    "    html = j.get_attribute(\"innerHTML\")\n",
    "    new_soup = BeautifulSoup(html, parser='html.parser')\n",
    "    shipFrom = new_soup.find_all(\n",
    "        'span', class_='a-size-small a-color-tertiary')[0].text.strip()\n",
    "    soldBy = new_soup.find_all(\n",
    "        'span', class_='a-size-small a-color-tertiary')[1].text.strip()\n",
    "    shipFrom_company = new_soup.find_all(\n",
    "        'span', class_='a-size-small a-color-base')[0].text.strip()\n",
    "    a = new_soup.find('a', class_='a-size-small a-link-normal')\n",
    "    if a is None:\n",
    "        soldBy_company = new_soup.find_all(\n",
    "            'span', class_='a-size-small a-color-base')[1].text.strip()\n",
    "\n",
    "    else:\n",
    "        soldBy_company = a.get_text().strip()\n",
    "    if \"amazon\" in shipFrom_company.lower() or \"amazon.ae\" in shipFrom_company.lower() or \"amazon.com\" in shipFrom_company.lower() or \"amazon uk\" in shipFrom_company.lower() or \"amazon\" in soldBy_company.lower() or \"amazon.ae\" in soldBy_company.lower() or \"amazon.com\" in soldBy_company.lower() or \"amazon uk\" in soldBy_company.lower():\n",
    "        d_target = f\"{shipFrom} {shipFrom_company}\"\n",
    "        sold_by = f\"{soldBy} {soldBy_company}\"\n",
    "        temp_list.append([d_target, sold_by])\n",
    "        print(d_target, sold_by)\n",
    "\n",
    "# other_sellers_data[i] = temp_list\n",
    "\n",
    "# step 9 : click on the cross sign to search another asin\n",
    "cross_btn = ex_wait.until(EC.element_to_be_clickable(\n",
    "    (By.XPATH, \"//i[@aria-label='aod-close']\")))\n",
    "cross_btn.click()\n",
    "# print(f\"{i} Successfully process : {asin_list[i]}\")"
   ]
  },
  {
   "cell_type": "code",
   "execution_count": 7,
   "metadata": {},
   "outputs": [],
   "source": []
  },
  {
   "cell_type": "code",
   "execution_count": null,
   "metadata": {},
   "outputs": [],
   "source": []
  }
 ],
 "metadata": {
  "interpreter": {
   "hash": "6f5583cf1d9466b5c27e75c89cc6b383bed5736d6b16c51c8074d8690011a952"
  },
  "kernelspec": {
   "display_name": "Python 3.9.7 ('base')",
   "language": "python",
   "name": "python3"
  },
  "language_info": {
   "codemirror_mode": {
    "name": "ipython",
    "version": 3
   },
   "file_extension": ".py",
   "mimetype": "text/x-python",
   "name": "python",
   "nbconvert_exporter": "python",
   "pygments_lexer": "ipython3",
   "version": "3.9.7"
  },
  "orig_nbformat": 4
 },
 "nbformat": 4,
 "nbformat_minor": 2
}
