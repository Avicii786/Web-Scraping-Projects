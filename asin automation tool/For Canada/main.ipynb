{
 "cells": [
  {
   "cell_type": "code",
   "execution_count": 2,
   "metadata": {},
   "outputs": [],
   "source": [
    "from selenium import webdriver\n",
    "from selenium.webdriver.common.by import By\n",
    "from selenium.webdriver.chrome.service import Service\n",
    "from selenium.webdriver.common.keys import Keys\n",
    "from selenium.webdriver.support.wait import WebDriverWait\n",
    "from selenium.webdriver.support import expected_conditions as EC\n",
    "import pandas as pd\n",
    "import time\n",
    "import os\n",
    "\n",
    "# drivers path\n",
    "driver_path = os.getcwd() + '/chromedriver.exe'\n",
    "\n",
    "# target website url and excel file name\n",
    "\n",
    "target_url = \"https://sellercentral-europe.amazon.com/fba/profitabilitycalculator/index?lang=en_GB\"  # target url\n",
    "excel_file_name = \"amazon_sheet.xlsx\"  # excel file name\n",
    "\n",
    "\n",
    "# step 1\n",
    "service_obj = Service(driver_path)\n",
    "driver = webdriver.Chrome(service=service_obj)\n",
    "driver.get(target_url)\n",
    "ex_wait = WebDriverWait(driver, 15)\n",
    "\n",
    "# reading excel file\n",
    "data = pd.read_excel(excel_file_name, header=None)\n",
    "asin_list = data[0]\n",
    "price_list = data[1]\n",
    "\n",
    "# step 2 login in to seller central as guest\n",
    "gues_btn = ex_wait.until(EC.presence_of_element_located(\n",
    "    (By.XPATH, \"//input[@aria-labelledby='link_continue-announce']\")))\n",
    "gues_btn.click()\n",
    "\n",
    "\n",
    "asin_dict = dict()\n",
    "price_dict = dict()\n",
    "net_profit_val = dict()"
   ]
  },
  {
   "cell_type": "code",
   "execution_count": 4,
   "metadata": {},
   "outputs": [],
   "source": [
    "# search asin\n",
    "\n",
    "asin_in_box = ex_wait.until(EC.element_to_be_clickable(\n",
    "    (By.XPATH, \"//input[@id='search-string']\")))\n",
    "# //*[@id=\"search-string\"]\n",
    "asin_in_box.clear()\n",
    "asin_in_box.send_keys(\"B0015SB98S\")\n",
    "# step 5\n",
    "search_btn = ex_wait.until(EC.element_to_be_clickable(\n",
    "    (By.XPATH, \"(//input[@type='submit'])[3]\")))\n",
    "search_btn.click()"
   ]
  },
  {
   "cell_type": "code",
   "execution_count": 5,
   "metadata": {},
   "outputs": [],
   "source": [
    "# calculate price\n",
    "\n",
    "pricing_box = ex_wait.until(EC.element_to_be_clickable(\n",
    "    (By.XPATH, \"//input[@id='afn-pricing']\")))\n",
    "pricing_box.clear()\n",
    "pricing_box.send_keys(\"371\")\n",
    "# step 7\n",
    "calculate_btn = ex_wait.until(EC.element_to_be_clickable(\n",
    "    (By.XPATH, \"//button[@id='update-fees-link-announce']\")))\n",
    "calculate_btn.click()"
   ]
  },
  {
   "cell_type": "code",
   "execution_count": 6,
   "metadata": {},
   "outputs": [
    {
     "name": "stdout",
     "output_type": "stream",
     "text": [
      ": Net Profit for 'B0015SB98S' : 312.53\n"
     ]
    }
   ],
   "source": [
    "net_profit = ex_wait.until(EC.presence_of_element_located(\n",
    "                (By.XPATH, \"//input[@id='afn-net-profit']\")))\n",
    "print(f\": Net Profit for 'B0015SB98S' : {net_profit.get_attribute('value')}\")"
   ]
  },
  {
   "cell_type": "code",
   "execution_count": 7,
   "metadata": {},
   "outputs": [],
   "source": [
    "try_another_btn = ex_wait.until(EC.element_to_be_clickable(\n",
    "                (By.XPATH, \"//input[@name='Try Another Product']\")))\n",
    "try_another_btn.click()"
   ]
  },
  {
   "cell_type": "code",
   "execution_count": null,
   "metadata": {},
   "outputs": [],
   "source": []
  }
 ],
 "metadata": {
  "interpreter": {
   "hash": "6f5583cf1d9466b5c27e75c89cc6b383bed5736d6b16c51c8074d8690011a952"
  },
  "kernelspec": {
   "display_name": "Python 3.9.7 ('base')",
   "language": "python",
   "name": "python3"
  },
  "language_info": {
   "codemirror_mode": {
    "name": "ipython",
    "version": 3
   },
   "file_extension": ".py",
   "mimetype": "text/x-python",
   "name": "python",
   "nbconvert_exporter": "python",
   "pygments_lexer": "ipython3",
   "version": "3.9.7"
  },
  "orig_nbformat": 4
 },
 "nbformat": 4,
 "nbformat_minor": 2
}
